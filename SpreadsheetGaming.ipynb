{
  "nbformat": 4,
  "nbformat_minor": 0,
  "metadata": {
    "colab": {
      "name": "SpreadsheetGaming.ipynb",
      "provenance": [],
      "authorship_tag": "ABX9TyNBSFYTg4jlDxFTOq26IONi",
      "include_colab_link": true
    },
    "kernelspec": {
      "name": "python3",
      "display_name": "Python 3"
    }
  },
  "cells": [
    {
      "cell_type": "markdown",
      "metadata": {
        "id": "view-in-github",
        "colab_type": "text"
      },
      "source": [
        "<a href=\"https://colab.research.google.com/github/jesraygarciano/pything/blob/master/SpreadsheetGaming.ipynb\" target=\"_parent\"><img src=\"https://colab.research.google.com/assets/colab-badge.svg\" alt=\"Open In Colab\"/></a>"
      ]
    },
    {
      "cell_type": "code",
      "metadata": {
        "id": "4URX1OZdTzBk",
        "colab_type": "code",
        "colab": {}
      },
      "source": [
        "!pip install --upgrade -q gspread"
      ],
      "execution_count": 0,
      "outputs": []
    },
    {
      "cell_type": "code",
      "metadata": {
        "id": "TdWagNZtWGz8",
        "colab_type": "code",
        "colab": {}
      },
      "source": [
        "from google.colab import auth\n",
        "auth.authenticate_user()\n",
        "\n",
        "import gspread\n",
        "from oauth2client.client import GoogleCredentials\n",
        "\n",
        "gc = gspread.authorize(GoogleCredentials.get_application_default())"
      ],
      "execution_count": 0,
      "outputs": []
    },
    {
      "cell_type": "code",
      "metadata": {
        "id": "sFZcuwYcWvYU",
        "colab_type": "code",
        "colab": {}
      },
      "source": [
        "output_sheet_name = 'Optional Class'\n",
        "sh = gc.create(output_sheet_name)\n",
        "worksheet = gc.open(output_sheet_name).sheet1"
      ],
      "execution_count": 0,
      "outputs": []
    },
    {
      "cell_type": "code",
      "metadata": {
        "id": "LPicFO0vXdTF",
        "colab_type": "code",
        "outputId": "accdcce3-ec4a-4a82-9213-e5eba33cbe04",
        "colab": {
          "base_uri": "https://localhost:8080/",
          "height": 102
        }
      },
      "source": [
        "worksheet.update_acell('A11', 'This is A11')\n",
        "worksheet.update_acell('B12', 'This is B12')\n",
        "worksheet.update_acell('C13', 'This is C13')\n",
        "worksheet.update_acell('D14', 'This is D14')\n",
        "\n",
        "\n",
        "worksheet.update_cell(14,1, 'This is A14')\n",
        "worksheet.update_cell(15,2, 'This is B15')\n",
        "worksheet.update_cell(16,3, 'This is C16')\n",
        "worksheet.update_cell(16,1, 'This is C16')\n",
        "\n"
      ],
      "execution_count": 0,
      "outputs": [
        {
          "output_type": "execute_result",
          "data": {
            "text/plain": [
              "{'spreadsheetId': '1pZt0acQbbQ5zQXLJeLljXP8xJ1RhYhcuNWk6z5emw0o',\n",
              " 'updatedCells': 1,\n",
              " 'updatedColumns': 1,\n",
              " 'updatedRange': 'Sheet1!A16',\n",
              " 'updatedRows': 1}"
            ]
          },
          "metadata": {
            "tags": []
          },
          "execution_count": 8
        }
      ]
    },
    {
      "cell_type": "code",
      "metadata": {
        "id": "OFHG-PlFaTub",
        "colab_type": "code",
        "colab": {}
      },
      "source": [
        "for i in range(1, 10):\n",
        "  for j in range(1, 10):\n",
        "    worksheet.update_cell(i,j, i*j)"
      ],
      "execution_count": 0,
      "outputs": []
    }
  ]
}